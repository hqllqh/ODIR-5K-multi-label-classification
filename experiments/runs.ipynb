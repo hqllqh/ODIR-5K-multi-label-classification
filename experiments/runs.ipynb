{
 "cells": [
  {
   "cell_type": "markdown",
   "metadata": {},
   "source": [
    "[![Open In Colab](https://colab.research.google.com/assets/colab-badge.svg)](https://colab.research.google.com/github/serdna1/ODIR-5K-multi-label-classification/blob/main/experiments/runs.ipynb)"
   ]
  },
  {
   "cell_type": "code",
   "execution_count": null,
   "metadata": {},
   "outputs": [
    {
     "name": "stdout",
     "output_type": "stream",
     "text": [
      "--2024-04-07 22:26:17--  https://github.com/serdna1/ODIR-5K-multi-label-classification/raw/main/experiments/runs.zip\n",
      "Resolving github.com (github.com)... 140.82.113.3\n",
      "Connecting to github.com (github.com)|140.82.113.3|:443... connected.\n",
      "HTTP request sent, awaiting response... 302 Found\n",
      "Location: https://raw.githubusercontent.com/serdna1/ODIR-5K-multi-label-classification/main/experiments/runs.zip [following]\n",
      "--2024-04-07 22:26:18--  https://raw.githubusercontent.com/serdna1/ODIR-5K-multi-label-classification/main/experiments/runs.zip\n",
      "Resolving raw.githubusercontent.com (raw.githubusercontent.com)... 185.199.108.133, 185.199.109.133, 185.199.110.133, ...\n",
      "Connecting to raw.githubusercontent.com (raw.githubusercontent.com)|185.199.108.133|:443... connected.\n",
      "HTTP request sent, awaiting response... 200 OK\n",
      "Length: 5281842 (5.0M) [application/zip]\n",
      "Saving to: ‘runs.zip’\n",
      "\n",
      "runs.zip            100%[===================>]   5.04M  --.-KB/s    in 0.02s   \n",
      "\n",
      "2024-04-07 22:26:18 (256 MB/s) - ‘runs.zip’ saved [5281842/5281842]\n",
      "\n",
      "Unzipping training runs...\n"
     ]
    }
   ],
   "source": [
    "import zipfile\n",
    "\n",
    "!wget https://github.com/serdna1/ODIR-5K-multi-label-classification/raw/main/experiments/runs.zip\n",
    "\n",
    "# Unzip images (will only work after upload the file to colab working directory)\n",
    "with zipfile.ZipFile('runs.zip', 'r') as zip_ref:\n",
    "  print(\"Unzipping training runs...\")\n",
    "  zip_ref.extractall(f'runs')\n",
    "!rm runs.zip"
   ]
  },
  {
   "cell_type": "code",
   "execution_count": null,
   "metadata": {},
   "outputs": [
    {
     "data": {
      "application/javascript": "\n        (async () => {\n            const url = new URL(await google.colab.kernel.proxyPort(6006, {'cache': true}));\n            url.searchParams.set('tensorboardColab', 'true');\n            const iframe = document.createElement('iframe');\n            iframe.src = url;\n            iframe.setAttribute('width', '100%');\n            iframe.setAttribute('height', '800');\n            iframe.setAttribute('frameborder', 0);\n            document.body.appendChild(iframe);\n        })();\n    ",
      "text/plain": [
       "<IPython.core.display.Javascript object>"
      ]
     },
     "metadata": {},
     "output_type": "display_data"
    }
   ],
   "source": [
    "%reload_ext tensorboard\n",
    "%tensorboard --logdir runs/"
   ]
  }
 ],
 "metadata": {
  "kernelspec": {
   "display_name": "odirenv",
   "language": "python",
   "name": "python3"
  },
  "language_info": {
   "codemirror_mode": {
    "name": "ipython",
    "version": 3
   },
   "file_extension": ".py",
   "mimetype": "text/x-python",
   "name": "python",
   "nbconvert_exporter": "python",
   "pygments_lexer": "ipython3",
   "version": "3.10.11"
  }
 },
 "nbformat": 4,
 "nbformat_minor": 2
}
